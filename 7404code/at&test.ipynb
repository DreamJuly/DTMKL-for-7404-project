{
 "cells": [
  {
   "cell_type": "code",
   "execution_count": null,
   "id": "2bf59b2a-771e-4f85-95f3-eb6ad9cce9b0",
   "metadata": {},
   "outputs": [],
   "source": [
    "import numpy as np\n",
    "from sklearn.svm import SVC\n",
    "from sklearn.metrics import accuracy_score\n",
    "from tqdm import(tqdm)\n",
    "\n",
    "class DTMKL:\n",
    "    def __init__(self, X_train_A, Y_train_A, X_train_T, Y_train_T,\n",
    "                  X_unlabeled_T=None,\n",
    "                 kernel_types=['linear', 'rbf'], \n",
    "                 C=1.0,theta = 1, eta=0.1,\n",
    "                 gamma_rbf=1.0, epsilon=1e-3, max_iter=100):\n",
    "        \"\"\"\n",
    "        Domain Transfer Multiple Kernel Learning (DTMKL) implementation.\n",
    "        \n",
    "        Parameters:\n",
    "        - X_train_A: Features from auxiliary domain\n",
    "        - Y_train_A: Labels from auxiliary domain\n",
    "        - X_train_T: Features from target domain (labeled)\n",
    "        - Y_train_T: Labels from target domain\n",
    "        - X_unlabeled_T: Unlabeled features from target domain (for MMD calculation)\n",
    "        - kernel_types: Types of base kernels ['linear', 'rbf', 'poly1.5']\n",
    "        - C: SVM regularization parameter\n",
    "        - eta: Trade-off parameter between domain adaptation and classification error\n",
    "        - gamma_rbf: RBF kernel parameter\n",
    "        - degree_poly: Polynomial kernel degree\n",
    "        - epsilon: Convergence threshold\n",
    "        - max_iter: Maximum number of iterations\n",
    "        \"\"\"\n",
    "        # Initialize data\n",
    "        self.X_train_A = X_train_A\n",
    "        self.Y_train_A = Y_train_A.reshape(-1, 1)\n",
    "        self.X_train_T = X_train_T\n",
    "        self.Y_train_T = Y_train_T.reshape(-1, 1)\n",
    "        self.theta = theta\n",
    "        # Handle unlabeled target data\n",
    "        if X_unlabeled_T is None:\n",
    "            # If no unlabeled data is provided, use labeled target data for MMD\n",
    "            self.X_unlabeled_T = X_train_T\n",
    "        else:\n",
    "            self.X_unlabeled_T = X_unlabeled_T\n",
    "            \n",
    "        # Combine labeled data from both domains\n",
    "        self.X_labeled = np.vstack([X_train_A, X_train_T])\n",
    "        self.Y_labeled = np.vstack([self.Y_train_A, self.Y_train_T]).flatten()\n",
    "        self.nA = len(X_train_A)\n",
    "        self.nT_labeled = len(X_train_T)\n",
    "        self.nT_unlabeled = len(self.X_unlabeled_T)\n",
    "        \n",
    "        # All data for MMD calculation\n",
    "        self.X_all_mmd = np.vstack([X_train_A,X_train_T,self.X_unlabeled_T])\n",
    "        self.nA_mmd = self.nA\n",
    "        self.nT_mmd = self.nT_labeled + self.nT_unlabeled\n",
    "        \n",
    "        # Kernel parameters\n",
    "        self.kernel_types = kernel_types\n",
    "        self.M = len(kernel_types)\n",
    "        self.gamma_rbf = gamma_rbf\n",
    "        self.degree_poly = degree_poly\n",
    "        \n",
    "        # Optimization parameters\n",
    "        self.C = C\n",
    "        self.eta = eta\n",
    "        self.epsilon = epsilon\n",
    "        self.max_iter = max_iter\n",
    "        \n",
    "        # Initialize domain indicator vector for MMD\n",
    "        self.s = self._create_s_vector()\n",
    "        \n",
    "        # Precompute kernel matrices\n",
    "        self.Km_list_labeled = self._precompute_base_kernels(self.X_labeled, self.X_labeled)\n",
    "        self.Km_list_mmd = self._precompute_base_kernels(self.X_all_mmd, self.X_all_mmd)\n",
    "        \n",
    "        # Initialize kernel weights\n",
    "        self.d = np.ones(self.M) / self.M\n",
    "        self.alpha = None\n",
    "        self.b = 0\n",
    "        self.svm = None\n",
    "\n",
    "    def _create_s_vector(self):\n",
    "        \"\"\"\n",
    "        Create domain indicator vector for MMD calculation.\n",
    "        Returns a vector where auxiliary domain entries are 1/nA and \n",
    "        target domain entries are -1/nT\n",
    "        \"\"\"\n",
    "        s_A = np.full(self.nA_mmd, 1.0/self.nA_mmd)\n",
    "        s_T = np.full(self.nT_mmd, -1.0/self.nT_mmd)\n",
    "        return np.concatenate([s_A, s_T]).reshape(-1,1)  # (n_samples, 1)\n",
    "\n",
    "    def _kernel_function(self, X1, X2, kernel_type):\n",
    "        \"\"\"Calculate kernel matrix for a given kernel type\"\"\"\n",
    "        if kernel_type == 'linear':\n",
    "            return X1 @ X2.T\n",
    "        elif kernel_type == 'rbf':\n",
    "            gamma = 1.0 / (X1.shape[1] * self.gamma_rbf)\n",
    "            pairwise_dists = np.sum(X1**2, axis=1)[:, np.newaxis] + \\\n",
    "                             np.sum(X2**2, axis=1) - 2 * X1 @ X2.T\n",
    "            return np.exp(-gamma * pairwise_dists)\n",
    "        elif kernel_type.startswith(\"poly\"):\n",
    "            degree = float(kernel_type[4:])\n",
    "            return (X1 @ X2.T + 1) ** degree\n",
    "        else:\n",
    "            raise ValueError(f\"Unsupported kernel type: {kernel_type}\")\n",
    "\n",
    "    def _precompute_base_kernels(self, X1, X2):\n",
    "        \"\"\"Precompute all base kernel matrices\"\"\"\n",
    "        return [self._kernel_function(X1, X2, kt) for kt in self.kernel_types]\n",
    "\n",
    "    def compute_mmd_vector(self):\n",
    "        \"\"\"\n",
    "        Compute the MMD vector p = [tr(K1S), ..., tr(KmS)]^T,\n",
    "        where S = ss^T and s is the domain indicator vector\n",
    "        \"\"\"\n",
    "        return np.array([np.trace(Km @ (self.s @ self.s.T)) for Km in self.Km_list_mmd]).reshape(-1, 1)\n",
    "\n",
    "    def _combine_kernels(self, d, kernel_matrices):\n",
    "        \"\"\"Combine multiple kernel matrices using weights d\"\"\"\n",
    "        return np.sum([d[m] * kernel_matrices[m] for m in range(self.M)], axis=0)\n",
    "\n",
    "    def _compute_gradient(self, d):\n",
    "        \"\"\"\n",
    "        Compute the gradient of the objective function:\n",
    "        ∇h = pp^T d + η ∇J\n",
    "        where p is the MMD vector and ∇J is the gradient of SVM objective\n",
    "        \"\"\"\n",
    "        # MMD part gradient: pp^T * d\n",
    "        p = self.compute_mmd_vector()\n",
    "        grad_part1 = (p @ p.T) @ d.reshape(-1, 1)\n",
    "        \n",
    "        # SVM objective gradient: η * ∂J/∂d\n",
    "        y = self.Y_labeled.reshape(-1, 1)\n",
    "        alpha_y = self.alpha.reshape(-1, 1) * y\n",
    "        grad_J = np.array([-0.5 * (alpha_y.T @ Km @ alpha_y).item() \n",
    "                          for Km in self.Km_list_labeled])\n",
    "        grad_part2 = self.theta * grad_J.reshape(-1, 1)\n",
    "        \n",
    "        return grad_part1 + grad_part2\n",
    "\n",
    "    def _compute_hessian(self, d):\n",
    "        \"\"\"\n",
    "        Compute the Hessian matrix of the objective function\n",
    "        H = pp^T + η ∇²J\n",
    "        \"\"\"\n",
    "        p = self.compute_mmd_vector()\n",
    "        hessian = p @ p.T\n",
    "        \n",
    "        # Add a small value to diagonal to ensure positive definiteness\n",
    "        return hessian + 1e-2 * np.eye(self.M)\n",
    "\n",
    "    def _project_simplex(self, v):\n",
    "        \"\"\"\n",
    "        Project vector v onto the probability simplex:\n",
    "        d ≥ 0, Σd = 1\n",
    "        \"\"\"\n",
    "        u = np.sort(v)[::-1]\n",
    "        cumsum = np.cumsum(u)\n",
    "        rho = np.where(u > (cumsum - 1) / (np.arange(1, len(v)+1)))[0][-1]\n",
    "        theta = (cumsum[rho] - 1) / (rho+1)\n",
    "        return np.maximum(v - theta, 0)\n",
    "\n",
    "    def fit(self):\n",
    "        \"\"\"Main training loop for DTMKL\"\"\"\n",
    "        prev_obj = np.inf\n",
    "        for iter in tqdm(range(self.max_iter)):\n",
    "            print(self.d)\n",
    "            # Step 1: Fix d, train SVM\n",
    "            K_combined = self._combine_kernels(self.d, self.Km_list_labeled)\n",
    "            self.svm = SVC(kernel='precomputed', C=self.C)\n",
    "            self.svm.fit(K_combined, self.Y_labeled)\n",
    "            \n",
    "            # Reconstruct full alpha array\n",
    "            self.alpha = np.zeros(len(self.Y_labeled))\n",
    "            self.alpha[self.svm.support_] = self.svm.dual_coef_[0] * self.Y_labeled[self.svm.support_]\n",
    "            self.b = self.svm.intercept_[0]\n",
    "            \n",
    "            # Step 2: Fix alpha, update d using second-order method\n",
    "            gradient = self._compute_gradient(self.d)\n",
    "            hessian = self._compute_hessian(self.d)\n",
    "            \n",
    "            # Use Newton's method with line search\n",
    "            gradient_col = gradient.reshape(-1, 1)  # 确保列向量\n",
    "            update_direction = -(np.linalg.inv(hessian) @ gradient_col).flatten()\n",
    "            \n",
    "            # Line search for step size\n",
    "            step_size = self.eta\n",
    "            d_new = self._project_simplex(self.d - step_size * update_direction)\n",
    "            \n",
    "            # # Calculate objective function value\n",
    "            # p = self.compute_mmd_vector()\n",
    "            # obj_mmd = 0.5 * (self.d.T @ p)**2\n",
    "            \n",
    "            # K_combined = self._combine_kernels(self.d, self.Km_list_labeled)\n",
    "            # obj_svm = 0.5 * self.alpha @ K_combined @ self.alpha - np.sum(self.alpha)\n",
    "            # obj = obj_mmd + self.eta * obj_svm\n",
    "            \n",
    "            # # Print progress\n",
    "            # if verbose and (iter % 10 == 0 or iter == self.max_iter-1):\n",
    "            #     acc = accuracy_score(self.Y_labeled, self.svm.predict(K_combined))\n",
    "            #     print(f\"Iter {iter}: Obj={obj.item():.4f}, Acc={acc:.4f}, d={np.round(self.d,3)}\")\n",
    "            \n",
    "            # # Check convergence\n",
    "            # if np.linalg.norm(d_new - self.d) < self.epsilon and abs(obj - prev_obj) < self.epsilon:\n",
    "            #     if verbose: \n",
    "            #         print(f\"Converged at iteration {iter}\")\n",
    "            #     break\n",
    "                \n",
    "            self.d = d_new\n",
    "            print(self.d)\n",
    "            #prev_obj = obj\n",
    "\n",
    "    def predict(self, X_test):\n",
    "        \"\"\"Predict labels for new test data\"\"\"\n",
    "        # Compute kernel matrices between test and training data\n",
    "        K_test_list = []\n",
    "        for kt in self.kernel_types:\n",
    "            K_test = self._kernel_function(X_test, self.X_labeled, kt)\n",
    "            K_test_list.append(K_test)\n",
    "        \n",
    "        # Combine kernels\n",
    "        K_test_combined = self._combine_kernels(self.d, K_test_list)\n",
    "        \n",
    "        # Use SVM to predict\n",
    "        return self.svm.predict(K_test_combined)\n",
    "\n",
    "    def evaluate(self, X_test, Y_test):\n",
    "        \"\"\"Evaluate model performance\"\"\"\n",
    "        y_pred = self.predict(X_test)\n",
    "        return accuracy_score(Y_test, y_pred)\n",
    "\n"
   ]
  },
  {
   "cell_type": "code",
   "execution_count": 8,
   "id": "bc31e0ca-ab53-4c26-890d-3fc2ed0d553b",
   "metadata": {},
   "outputs": [
    {
     "name": "stdout",
     "output_type": "stream",
     "text": [
      "Loading comp_vs_talk data...\n",
      "Auxiliary domain: 1928 samples\n",
      "Target domain: 1892 samples\n",
      "X_aux [[0. 0. 0. ... 0. 0. 0.]\n",
      " [0. 0. 0. ... 0. 0. 0.]\n",
      " [0. 0. 0. ... 0. 0. 0.]\n",
      " ...\n",
      " [0. 0. 0. ... 0. 0. 0.]\n",
      " [0. 0. 0. ... 0. 0. 0.]\n",
      " [0. 0. 0. ... 0. 0. 0.]]\n",
      "y_aux [ 1 -1 -1 ...  1  1  1]\n",
      "X_tar [[0. 0. 0. ... 0. 0. 0.]\n",
      " [0. 0. 0. ... 0. 0. 0.]\n",
      " [0. 0. 0. ... 0. 0. 0.]\n",
      " ...\n",
      " [0. 0. 0. ... 0. 0. 0.]\n",
      " [0. 0. 0. ... 0. 0. 0.]\n",
      " [0. 0. 0. ... 0. 0. 0.]]\n",
      "y_tar [-1  1  1 ... -1  1 -1]\n"
     ]
    },
    {
     "name": "stderr",
     "output_type": "stream",
     "text": [
      "  0%|          | 0/50 [00:00<?, ?it/s]"
     ]
    },
    {
     "name": "stdout",
     "output_type": "stream",
     "text": [
      "[0.14285714 0.14285714 0.14285714 0.14285714 0.14285714 0.14285714\n",
      " 0.14285714]\n"
     ]
    },
    {
     "name": "stderr",
     "output_type": "stream",
     "text": [
      "  2%|▏         | 1/50 [00:14<12:08, 14.86s/it]"
     ]
    },
    {
     "name": "stdout",
     "output_type": "stream",
     "text": [
      "[0.15002231 0.14495309 0.14374406 0.14245893 0.1410923  0.13963838\n",
      " 0.13809093]\n",
      "[0.15002231 0.14495309 0.14374406 0.14245893 0.1410923  0.13963838\n",
      " 0.13809093]\n"
     ]
    },
    {
     "name": "stderr",
     "output_type": "stream",
     "text": [
      "  4%|▍         | 2/50 [00:29<11:38, 14.54s/it]"
     ]
    },
    {
     "name": "stdout",
     "output_type": "stream",
     "text": [
      "[0.15728071 0.1470768  0.14464291 0.14205577 0.13930449 0.13637738\n",
      " 0.13326194]\n",
      "[0.15728071 0.1470768  0.14464291 0.14205577 0.13930449 0.13637738\n",
      " 0.13326194]\n"
     ]
    },
    {
     "name": "stderr",
     "output_type": "stream",
     "text": [
      "  6%|▌         | 3/50 [00:43<11:20, 14.48s/it]"
     ]
    },
    {
     "name": "stdout",
     "output_type": "stream",
     "text": [
      "[0.16463612 0.14922942 0.14555421 0.14164748 0.13749277 0.13307243\n",
      " 0.12836756]\n",
      "[0.16463612 0.14922942 0.14555421 0.14164748 0.13749277 0.13307243\n",
      " 0.12836756]\n"
     ]
    },
    {
     "name": "stderr",
     "output_type": "stream",
     "text": [
      "  8%|▊         | 4/50 [00:57<11:04, 14.44s/it]"
     ]
    },
    {
     "name": "stdout",
     "output_type": "stream",
     "text": [
      "[0.17209209 0.15141204 0.14647843 0.14123388 0.13565627 0.12972191\n",
      " 0.12340539]\n",
      "[0.17209209 0.15141204 0.14647843 0.14123388 0.13565627 0.12972191\n",
      " 0.12340539]\n"
     ]
    },
    {
     "name": "stderr",
     "output_type": "stream",
     "text": [
      " 10%|█         | 5/50 [01:12<10:47, 14.40s/it]"
     ]
    },
    {
     "name": "stdout",
     "output_type": "stream",
     "text": [
      "[0.17965172 0.15362556 0.14741595 0.1408148  0.13379423 0.1263244\n",
      " 0.11837334]\n",
      "[0.17965172 0.15362556 0.14741595 0.1408148  0.13379423 0.1263244\n",
      " 0.11837334]\n"
     ]
    },
    {
     "name": "stderr",
     "output_type": "stream",
     "text": [
      " 12%|█▏        | 6/50 [01:26<10:31, 14.34s/it]"
     ]
    },
    {
     "name": "stdout",
     "output_type": "stream",
     "text": [
      "[0.1873185  0.15587105 0.14836726 0.14039006 0.13190578 0.12287833\n",
      " 0.11326902]\n",
      "[0.1873185  0.15587105 0.14836726 0.14039006 0.13190578 0.12287833\n",
      " 0.11326902]\n"
     ]
    },
    {
     "name": "stderr",
     "output_type": "stream",
     "text": [
      " 14%|█▍        | 7/50 [01:42<10:40, 14.90s/it]"
     ]
    },
    {
     "name": "stdout",
     "output_type": "stream",
     "text": [
      "[0.19509654 0.15814974 0.14933287 0.13995946 0.12998992 0.11938181\n",
      " 0.10808966]\n",
      "[0.19509654 0.15814974 0.14933287 0.13995946 0.12998992 0.11938181\n",
      " 0.10808966]\n"
     ]
    },
    {
     "name": "stderr",
     "output_type": "stream",
     "text": [
      " 16%|█▌        | 8/50 [02:00<11:03, 15.79s/it]"
     ]
    },
    {
     "name": "stdout",
     "output_type": "stream",
     "text": [
      "[0.20299013 0.16046296 0.15031337 0.13952278 0.12804558 0.11583288\n",
      " 0.1028323 ]\n",
      "[0.20299013 0.16046296 0.15031337 0.13952278 0.12804558 0.11583288\n",
      " 0.1028323 ]\n"
     ]
    },
    {
     "name": "stderr",
     "output_type": "stream",
     "text": [
      " 18%|█▊        | 9/50 [02:18<11:14, 16.46s/it]"
     ]
    },
    {
     "name": "stdout",
     "output_type": "stream",
     "text": [
      "[0.21100357 0.16281199 0.15130933 0.13907981 0.1260717  0.11222958\n",
      " 0.09749403]\n",
      "[0.21100357 0.16281199 0.15130933 0.13907981 0.1260717  0.11222958\n",
      " 0.09749403]\n"
     ]
    },
    {
     "name": "stderr",
     "output_type": "stream",
     "text": [
      " 20%|██        | 10/50 [02:35<11:03, 16.59s/it]"
     ]
    },
    {
     "name": "stdout",
     "output_type": "stream",
     "text": [
      "[0.21914169 0.16519829 0.15232137 0.13863029 0.1240671  0.10856971\n",
      " 0.09207156]\n",
      "[0.21914169 0.16519829 0.15232137 0.13863029 0.1240671  0.10856971\n",
      " 0.09207156]\n"
     ]
    },
    {
     "name": "stderr",
     "output_type": "stream",
     "text": [
      " 22%|██▏       | 11/50 [02:51<10:43, 16.50s/it]"
     ]
    },
    {
     "name": "stdout",
     "output_type": "stream",
     "text": [
      "[0.22740933 0.16762332 0.15335014 0.13817398 0.12203058 0.10485105\n",
      " 0.08656159]\n",
      "[0.22740933 0.16762332 0.15335014 0.13817398 0.12203058 0.10485105\n",
      " 0.08656159]\n"
     ]
    },
    {
     "name": "stderr",
     "output_type": "stream",
     "text": [
      " 24%|██▍       | 12/50 [03:07<10:25, 16.46s/it]"
     ]
    },
    {
     "name": "stdout",
     "output_type": "stream",
     "text": [
      "[0.23581185 0.1700887  0.15439633 0.13771061 0.11996082 0.10107119\n",
      " 0.0809605 ]\n",
      "[0.23581185 0.1700887  0.15439633 0.13771061 0.11996082 0.10107119\n",
      " 0.0809605 ]\n"
     ]
    },
    {
     "name": "stderr",
     "output_type": "stream",
     "text": [
      " 26%|██▌       | 13/50 [03:24<10:07, 16.41s/it]"
     ]
    },
    {
     "name": "stdout",
     "output_type": "stream",
     "text": [
      "[0.24435495 0.17259617 0.15546071 0.13723989 0.11785642 0.09722749\n",
      " 0.07526437]\n",
      "[0.24435495 0.17259617 0.15546071 0.13723989 0.11785642 0.09722749\n",
      " 0.07526437]\n"
     ]
    },
    {
     "name": "stderr",
     "output_type": "stream",
     "text": [
      " 28%|██▊       | 14/50 [03:40<09:46, 16.29s/it]"
     ]
    },
    {
     "name": "stdout",
     "output_type": "stream",
     "text": [
      "[0.25304462 0.17514754 0.15654408 0.13676151 0.11571589 0.09331723\n",
      " 0.06946913]\n",
      "[0.25304462 0.17514754 0.15654408 0.13676151 0.11571589 0.09331723\n",
      " 0.06946913]\n"
     ]
    },
    {
     "name": "stderr",
     "output_type": "stream",
     "text": [
      " 30%|███       | 15/50 [03:56<09:31, 16.34s/it]"
     ]
    },
    {
     "name": "stdout",
     "output_type": "stream",
     "text": [
      "[0.26188757 0.17774482 0.1576473  0.13627514 0.11353759 0.08933736\n",
      " 0.06357022]\n",
      "[0.26188757 0.17774482 0.1576473  0.13627514 0.11353759 0.08933736\n",
      " 0.06357022]\n"
     ]
    },
    {
     "name": "stderr",
     "output_type": "stream",
     "text": [
      " 32%|███▏      | 16/50 [04:12<09:15, 16.35s/it]"
     ]
    },
    {
     "name": "stdout",
     "output_type": "stream",
     "text": [
      "[0.27089036 0.18039005 0.15877127 0.13578046 0.11131989 0.08528485\n",
      " 0.05756311]\n",
      "[0.27089036 0.18039005 0.15877127 0.13578046 0.11131989 0.08528485\n",
      " 0.05756311]\n"
     ]
    },
    {
     "name": "stderr",
     "output_type": "stream",
     "text": [
      " 34%|███▍      | 17/50 [04:29<09:00, 16.37s/it]"
     ]
    },
    {
     "name": "stdout",
     "output_type": "stream",
     "text": [
      "[0.28006066 0.18308551 0.15991699 0.13527706 0.10906091 0.08115623\n",
      " 0.05144264]\n",
      "[0.28006066 0.18308551 0.15991699 0.13527706 0.10906091 0.08115623\n",
      " 0.05144264]\n"
     ]
    },
    {
     "name": "stderr",
     "output_type": "stream",
     "text": [
      " 36%|███▌      | 18/50 [04:45<08:44, 16.40s/it]"
     ]
    },
    {
     "name": "stdout",
     "output_type": "stream",
     "text": [
      "[0.28940689 0.1858338  0.16108559 0.13476454 0.10675857 0.07694761\n",
      " 0.04520299]\n",
      "[0.28940689 0.1858338  0.16108559 0.13476454 0.10675857 0.07694761\n",
      " 0.04520299]\n"
     ]
    },
    {
     "name": "stderr",
     "output_type": "stream",
     "text": [
      " 38%|███▊      | 19/50 [05:02<08:29, 16.44s/it]"
     ]
    },
    {
     "name": "stdout",
     "output_type": "stream",
     "text": [
      "[0.29893768 0.18863751 0.16227823 0.13424246 0.10441075 0.07265508\n",
      " 0.0388383 ]\n",
      "[0.29893768 0.18863751 0.16227823 0.13424246 0.10441075 0.07265508\n",
      " 0.0388383 ]\n"
     ]
    },
    {
     "name": "stderr",
     "output_type": "stream",
     "text": [
      " 40%|████      | 20/50 [05:18<08:13, 16.45s/it]"
     ]
    },
    {
     "name": "stdout",
     "output_type": "stream",
     "text": [
      "[0.30866248 0.19149953 0.16349615 0.13371034 0.1020151  0.06827431\n",
      " 0.03234209]\n",
      "[0.30866248 0.19149953 0.16349615 0.13371034 0.1020151  0.06827431\n",
      " 0.03234209]\n"
     ]
    },
    {
     "name": "stderr",
     "output_type": "stream",
     "text": [
      " 42%|████▏     | 21/50 [05:34<07:52, 16.28s/it]"
     ]
    },
    {
     "name": "stdout",
     "output_type": "stream",
     "text": [
      "[0.31859144 0.19442294 0.1647407  0.13316769 0.09956914 0.06380065\n",
      " 0.02570746]\n",
      "[0.31859144 0.19442294 0.1647407  0.13316769 0.09956914 0.06380065\n",
      " 0.02570746]\n"
     ]
    },
    {
     "name": "stderr",
     "output_type": "stream",
     "text": [
      " 44%|████▍     | 22/50 [05:50<07:33, 16.21s/it]"
     ]
    },
    {
     "name": "stdout",
     "output_type": "stream",
     "text": [
      "[0.32873495 0.19741087 0.16601325 0.13261396 0.0970703  0.05922937\n",
      " 0.01892731]\n",
      "[0.32873495 0.19741087 0.16601325 0.13261396 0.0970703  0.05922937\n",
      " 0.01892731]\n"
     ]
    },
    {
     "name": "stderr",
     "output_type": "stream",
     "text": [
      " 46%|████▌     | 23/50 [06:07<07:19, 16.27s/it]"
     ]
    },
    {
     "name": "stdout",
     "output_type": "stream",
     "text": [
      "[0.33910572 0.20046723 0.16731552 0.13204853 0.09451544 0.05455463\n",
      " 0.01199293]\n",
      "[0.33910572 0.20046723 0.16731552 0.13204853 0.09451544 0.05455463\n",
      " 0.01199293]\n"
     ]
    },
    {
     "name": "stderr",
     "output_type": "stream",
     "text": [
      " 48%|████▊     | 24/50 [06:23<07:05, 16.36s/it]"
     ]
    },
    {
     "name": "stdout",
     "output_type": "stream",
     "text": [
      "[0.34971752 0.20359621 0.16864936 0.13147073 0.09190117 0.04977013\n",
      " 0.00489488]\n",
      "[0.34971752 0.20359621 0.16864936 0.13147073 0.09190117 0.04977013\n",
      " 0.00489488]\n"
     ]
    },
    {
     "name": "stderr",
     "output_type": "stream",
     "text": [
      " 50%|█████     | 25/50 [06:40<06:50, 16.43s/it]"
     ]
    },
    {
     "name": "stdout",
     "output_type": "stream",
     "text": [
      "[0.3601883  0.206406   0.16962056 0.13048378 0.08882796 0.0444734\n",
      " 0.        ]\n",
      "[0.3601883  0.206406   0.16962056 0.13048378 0.08882796 0.0444734\n",
      " 0.        ]\n"
     ]
    },
    {
     "name": "stderr",
     "output_type": "stream",
     "text": [
      " 52%|█████▏    | 26/50 [06:56<06:34, 16.42s/it]"
     ]
    },
    {
     "name": "stdout",
     "output_type": "stream",
     "text": [
      "[0.37006078 0.20844618 0.16978036 0.12864069 0.0848507  0.0382213\n",
      " 0.        ]\n",
      "[0.37006078 0.20844618 0.16978036 0.12864069 0.0848507  0.0382213\n",
      " 0.        ]\n"
     ]
    },
    {
     "name": "stderr",
     "output_type": "stream",
     "text": [
      " 54%|█████▍    | 27/50 [07:12<06:15, 16.32s/it]"
     ]
    },
    {
     "name": "stdout",
     "output_type": "stream",
     "text": [
      "[0.38011511 0.21052494 0.1699438  0.12676385 0.08079968 0.03185262\n",
      " 0.        ]\n",
      "[0.38011511 0.21052494 0.1699438  0.12676385 0.08079968 0.03185262\n",
      " 0.        ]\n"
     ]
    },
    {
     "name": "stderr",
     "output_type": "stream",
     "text": [
      " 56%|█████▌    | 28/50 [07:29<05:59, 16.32s/it]"
     ]
    },
    {
     "name": "stdout",
     "output_type": "stream",
     "text": [
      "[0.39035965 0.21264407 0.17011107 0.12485173 0.07667152 0.02536195\n",
      " 0.        ]\n",
      "[0.39035965 0.21264407 0.17011107 0.12485173 0.07667152 0.02536195\n",
      " 0.        ]\n"
     ]
    },
    {
     "name": "stderr",
     "output_type": "stream",
     "text": [
      " 58%|█████▊    | 29/50 [07:45<05:42, 16.32s/it]"
     ]
    },
    {
     "name": "stdout",
     "output_type": "stream",
     "text": [
      "[0.40080379 0.2148056  0.17028239 0.1229026  0.07246238 0.01874324\n",
      " 0.        ]\n",
      "[0.40080379 0.2148056  0.17028239 0.1229026  0.07246238 0.01874324\n",
      " 0.        ]\n"
     ]
    },
    {
     "name": "stderr",
     "output_type": "stream",
     "text": [
      " 60%|██████    | 30/50 [08:01<05:28, 16.40s/it]"
     ]
    },
    {
     "name": "stdout",
     "output_type": "stream",
     "text": [
      "[0.41145694 0.21701156 0.17045796 0.12091471 0.06816843 0.0119904\n",
      " 0.        ]\n",
      "[0.41145694 0.21701156 0.17045796 0.12091471 0.06816843 0.0119904\n",
      " 0.        ]\n"
     ]
    },
    {
     "name": "stderr",
     "output_type": "stream",
     "text": [
      " 62%|██████▏   | 31/50 [08:18<05:12, 16.45s/it]"
     ]
    },
    {
     "name": "stdout",
     "output_type": "stream",
     "text": [
      "[0.42233067 0.21926445 0.17063805 0.11888593 0.06378495 0.00509595\n",
      " 0.        ]\n",
      "[0.42233067 0.21926445 0.17063805 0.11888593 0.06378495 0.00509595\n",
      " 0.        ]\n"
     ]
    },
    {
     "name": "stderr",
     "output_type": "stream",
     "text": [
      " 64%|██████▍   | 32/50 [08:35<04:59, 16.66s/it]"
     ]
    },
    {
     "name": "stdout",
     "output_type": "stream",
     "text": [
      "[0.4330473  0.22117725 0.17043336 0.11642452 0.05891757 0.\n",
      " 0.        ]\n",
      "[0.4330473  0.22117725 0.17043336 0.11642452 0.05891757 0.\n",
      " 0.        ]\n"
     ]
    },
    {
     "name": "stderr",
     "output_type": "stream",
     "text": [
      " 66%|██████▌   | 33/50 [08:51<04:40, 16.47s/it]"
     ]
    },
    {
     "name": "stdout",
     "output_type": "stream",
     "text": [
      "[0.44294114 0.2220899  0.16918519 0.11287319 0.05291058 0.\n",
      " 0.        ]\n",
      "[0.44294114 0.2220899  0.16918519 0.11287319 0.05291058 0.\n",
      " 0.        ]\n"
     ]
    },
    {
     "name": "stderr",
     "output_type": "stream",
     "text": [
      " 68%|██████▊   | 34/50 [09:07<04:20, 16.31s/it]"
     ]
    },
    {
     "name": "stdout",
     "output_type": "stream",
     "text": [
      "[0.45299352 0.22301789 0.16791738 0.1092648  0.04680641 0.\n",
      " 0.        ]\n",
      "[0.45299352 0.22301789 0.16791738 0.1092648  0.04680641 0.\n",
      " 0.        ]\n"
     ]
    },
    {
     "name": "stderr",
     "output_type": "stream",
     "text": [
      " 70%|███████   | 35/50 [09:23<04:02, 16.20s/it]"
     ]
    },
    {
     "name": "stdout",
     "output_type": "stream",
     "text": [
      "[0.46321116 0.22396189 0.16662912 0.1055969  0.04060093 0.\n",
      " 0.        ]\n",
      "[0.46321116 0.22396189 0.16662912 0.1055969  0.04060093 0.\n",
      " 0.        ]\n"
     ]
    },
    {
     "name": "stderr",
     "output_type": "stream",
     "text": [
      " 72%|███████▏  | 36/50 [09:39<03:45, 16.14s/it]"
     ]
    },
    {
     "name": "stdout",
     "output_type": "stream",
     "text": [
      "[0.47360167 0.22492264 0.16531948 0.10186677 0.03428945 0.\n",
      " 0.        ]\n",
      "[0.47360167 0.22492264 0.16531948 0.10186677 0.03428945 0.\n",
      " 0.        ]\n"
     ]
    },
    {
     "name": "stderr",
     "output_type": "stream",
     "text": [
      " 74%|███████▍  | 37/50 [09:55<03:30, 16.20s/it]"
     ]
    },
    {
     "name": "stdout",
     "output_type": "stream",
     "text": [
      "[0.48417207 0.22590086 0.16398759 0.09807186 0.02786762 0.\n",
      " 0.        ]\n",
      "[0.48417207 0.22590086 0.16398759 0.09807186 0.02786762 0.\n",
      " 0.        ]\n"
     ]
    },
    {
     "name": "stderr",
     "output_type": "stream",
     "text": [
      " 76%|███████▌  | 38/50 [10:13<03:19, 16.63s/it]"
     ]
    },
    {
     "name": "stdout",
     "output_type": "stream",
     "text": [
      "[0.49493086 0.2268974  0.16263242 0.0942091  0.02133021 0.\n",
      " 0.        ]\n",
      "[0.49493086 0.2268974  0.16263242 0.0942091  0.02133021 0.\n",
      " 0.        ]\n"
     ]
    },
    {
     "name": "stderr",
     "output_type": "stream",
     "text": [
      " 78%|███████▊  | 39/50 [10:30<03:02, 16.62s/it]"
     ]
    },
    {
     "name": "stdout",
     "output_type": "stream",
     "text": [
      "[0.50588617 0.22791306 0.16125298 0.09027558 0.01467221 0.\n",
      " 0.        ]\n",
      "[0.50588617 0.22791306 0.16125298 0.09027558 0.01467221 0.\n",
      " 0.        ]\n"
     ]
    },
    {
     "name": "stderr",
     "output_type": "stream",
     "text": [
      " 80%|████████  | 40/50 [10:46<02:46, 16.61s/it]"
     ]
    },
    {
     "name": "stdout",
     "output_type": "stream",
     "text": [
      "[0.51704754 0.2289488  0.15984809 0.08626784 0.00788773 0.\n",
      " 0.        ]\n",
      "[0.51704754 0.2289488  0.15984809 0.08626784 0.00788773 0.\n",
      " 0.        ]\n"
     ]
    },
    {
     "name": "stderr",
     "output_type": "stream",
     "text": [
      " 82%|████████▏ | 41/50 [11:02<02:27, 16.42s/it]"
     ]
    },
    {
     "name": "stdout",
     "output_type": "stream",
     "text": [
      "[0.52842542 0.23000568 0.1584165  0.08218211 0.00097029 0.\n",
      " 0.        ]\n",
      "[0.52842542 0.23000568 0.1584165  0.08218211 0.00097029 0.\n",
      " 0.        ]\n"
     ]
    },
    {
     "name": "stderr",
     "output_type": "stream",
     "text": [
      " 84%|████████▍ | 42/50 [11:18<02:10, 16.26s/it]"
     ]
    },
    {
     "name": "stdout",
     "output_type": "stream",
     "text": [
      "[0.53850792 0.22956313 0.15543552 0.07649343 0.         0.\n",
      " 0.        ]\n",
      "[0.53850792 0.22956313 0.15543552 0.07649343 0.         0.\n",
      " 0.        ]\n"
     ]
    },
    {
     "name": "stderr",
     "output_type": "stream",
     "text": [
      " 86%|████████▌ | 43/50 [11:34<01:52, 16.13s/it]"
     ]
    },
    {
     "name": "stdout",
     "output_type": "stream",
     "text": [
      "[0.5484972  0.22886812 0.1521631  0.07047158 0.         0.\n",
      " 0.        ]\n",
      "[0.5484972  0.22886812 0.1521631  0.07047158 0.         0.\n",
      " 0.        ]\n"
     ]
    },
    {
     "name": "stderr",
     "output_type": "stream",
     "text": [
      " 88%|████████▊ | 44/50 [11:50<01:37, 16.18s/it]"
     ]
    },
    {
     "name": "stdout",
     "output_type": "stream",
     "text": [
      "[0.55863248 0.22816345 0.14884293 0.06436114 0.         0.\n",
      " 0.        ]\n",
      "[0.55863248 0.22816345 0.14884293 0.06436114 0.         0.\n",
      " 0.        ]\n"
     ]
    },
    {
     "name": "stderr",
     "output_type": "stream",
     "text": [
      " 90%|█████████ | 45/50 [12:07<01:21, 16.24s/it]"
     ]
    },
    {
     "name": "stdout",
     "output_type": "stream",
     "text": [
      "[0.56892    0.22744875 0.14547296 0.05815829 0.         0.\n",
      " 0.        ]\n",
      "[0.56892    0.22744875 0.14547296 0.05815829 0.         0.\n",
      " 0.        ]\n"
     ]
    },
    {
     "name": "stderr",
     "output_type": "stream",
     "text": [
      " 92%|█████████▏| 46/50 [12:23<01:05, 16.31s/it]"
     ]
    },
    {
     "name": "stdout",
     "output_type": "stream",
     "text": [
      "[0.57936492 0.22672365 0.14205151 0.05185992 0.         0.\n",
      " 0.        ]\n",
      "[0.57936492 0.22672365 0.14205151 0.05185992 0.         0.\n",
      " 0.        ]\n"
     ]
    },
    {
     "name": "stderr",
     "output_type": "stream",
     "text": [
      " 94%|█████████▍| 47/50 [12:39<00:48, 16.23s/it]"
     ]
    },
    {
     "name": "stdout",
     "output_type": "stream",
     "text": [
      "[0.58997379 0.22598778 0.13857644 0.04546199 0.         0.\n",
      " 0.        ]\n",
      "[0.58997379 0.22598778 0.13857644 0.04546199 0.         0.\n",
      " 0.        ]\n"
     ]
    },
    {
     "name": "stderr",
     "output_type": "stream",
     "text": [
      " 96%|█████████▌| 48/50 [12:55<00:32, 16.19s/it]"
     ]
    },
    {
     "name": "stdout",
     "output_type": "stream",
     "text": [
      "[0.60075387 0.22524063 0.13504538 0.03896012 0.         0.\n",
      " 0.        ]\n",
      "[0.60075387 0.22524063 0.13504538 0.03896012 0.         0.\n",
      " 0.        ]\n"
     ]
    },
    {
     "name": "stderr",
     "output_type": "stream",
     "text": [
      " 98%|█████████▊| 49/50 [13:11<00:16, 16.18s/it]"
     ]
    },
    {
     "name": "stdout",
     "output_type": "stream",
     "text": [
      "[0.61171134 0.22448184 0.1314563  0.03235053 0.         0.\n",
      " 0.        ]\n",
      "[0.61171134 0.22448184 0.1314563  0.03235053 0.         0.\n",
      " 0.        ]\n"
     ]
    },
    {
     "name": "stderr",
     "output_type": "stream",
     "text": [
      "100%|██████████| 50/50 [13:28<00:00, 16.16s/it]"
     ]
    },
    {
     "name": "stdout",
     "output_type": "stream",
     "text": [
      "[0.6228549  0.22371085 0.12780636 0.02562789 0.         0.\n",
      " 0.        ]\n"
     ]
    },
    {
     "name": "stderr",
     "output_type": "stream",
     "text": [
      "\n"
     ]
    },
    {
     "name": "stdout",
     "output_type": "stream",
     "text": [
      "y_pred [-1  1  1 ... -1  1 -1]\n",
      "0.9011689691817216\n",
      "ypre-svm_T [-1  1  1 ... -1  1 -1]\n",
      "0.8804463336875664\n",
      "ypre-svm_A [-1  1  1 ... -1  1 -1]\n",
      "0.8767268862911796\n",
      "ypre-svm_AT [-1  1  1 ... -1  1 -1]\n",
      "0.9017003188097769\n"
     ]
    }
   ],
   "source": [
    "import numpy as np\n",
    "import pandas as pd\n",
    "import matplotlib.pyplot as plt\n",
    "from sklearn.datasets import fetch_20newsgroups\n",
    "from sklearn.feature_extraction.text import TfidfVectorizer\n",
    "from sklearn.metrics import accuracy_score\n",
    "from sklearn.svm import SVC\n",
    "import warnings\n",
    "warnings.filterwarnings('ignore')\n",
    "import os\n",
    "from sklearn.model_selection import train_test_split\n",
    "\n",
    "\n",
    "\n",
    "def load_newsgroup_data(setting='comp_vs_rec'):\n",
    "    \"\"\"\n",
    "    Load and prepare 20 Newsgroups dataset for domain adaptation experiment.\n",
    "    \n",
    "    Parameters:\n",
    "    - setting: Which setting to use ('comp_vs_rec', 'comp_vs_sci', or 'comp_vs_talk')\n",
    "    \n",
    "    Returns:\n",
    "    - Data for auxiliary and target domains\n",
    "    \"\"\"\n",
    "    print(f\"Loading {setting} data...\")\n",
    "    \n",
    "    # Define category mappings according to the paper's Table 1\n",
    "    settings = {\n",
    "        'comp_vs_rec': {\n",
    "            'auxiliary': ['comp.windows.x', 'rec.sport.hockey'],\n",
    "            'target': ['comp.sys.ibm.pc.hardware', 'rec.motorcycles'],\n",
    "            'positive_class': 'comp',\n",
    "            'negative_class': 'rec'\n",
    "        },\n",
    "        'comp_vs_sci': {\n",
    "            'auxiliary': ['comp.windows.x', 'sci.crypt'],\n",
    "            'target': ['comp.sys.ibm.pc.hardware', 'sci.med'],\n",
    "            'positive_class': 'comp',\n",
    "            'negative_class': 'sci'\n",
    "        },\n",
    "        'comp_vs_talk': {\n",
    "            'auxiliary': ['comp.windows.x', 'talk.politics.mideast'],\n",
    "            'target': ['comp.sys.ibm.pc.hardware', 'talk.politics.guns'],\n",
    "            'positive_class': 'comp',\n",
    "            'negative_class': 'talk'\n",
    "        }\n",
    "    }\n",
    "    \n",
    "    # Get the specific setting\n",
    "    current_setting = settings[setting]\n",
    "    \n",
    "    # Load the auxiliary domain data\n",
    "    auxiliary_categories = current_setting['auxiliary']\n",
    "    auxiliary_data = fetch_20newsgroups(subset='all', \n",
    "                                       categories=auxiliary_categories,\n",
    "                                       shuffle=True, \n",
    "                                       random_state=42)\n",
    "    \n",
    "    # Load the target domain data\n",
    "    target_categories = current_setting['target']\n",
    "    target_data = fetch_20newsgroups(subset='all', \n",
    "                                    categories=target_categories,\n",
    "                                    shuffle=True, \n",
    "                                    random_state=42)\n",
    "    \n",
    "    # Create labels\n",
    "    # Positive class (comp) = 1, Negative class (rec/sci/talk) = -1\n",
    "    auxiliary_labels = []\n",
    "    for target_idx in auxiliary_data.target:\n",
    "        category = auxiliary_data.target_names[target_idx]\n",
    "        if category.startswith(current_setting['positive_class']):\n",
    "            auxiliary_labels.append(1)\n",
    "        else:\n",
    "            auxiliary_labels.append(-1)\n",
    "    auxiliary_labels = np.array(auxiliary_labels)\n",
    "\n",
    "    target_labels = []\n",
    "    for target_idx in target_data.target:\n",
    "        category = target_data.target_names[target_idx]\n",
    "        if category.startswith(current_setting['positive_class']):\n",
    "            target_labels.append(1)\n",
    "        else:\n",
    "            target_labels.append(-1)\n",
    "    target_labels = np.array(target_labels)\n",
    "    \n",
    "\n",
    "    \n",
    "    # Create feature vectors - use TF-IDF on the text data\n",
    "    vectorizer = TfidfVectorizer(min_df=5, max_df=0.9, sublinear_tf=True, use_idf=True)\n",
    "    \n",
    "    # Fit the vectorizer on all data\n",
    "    all_texts = auxiliary_data.data + target_data.data\n",
    "    vectorizer.fit(all_texts)\n",
    "    \n",
    "    # Transform the auxiliary and target data\n",
    "    auxiliary_features = vectorizer.transform(auxiliary_data.data).toarray()\n",
    "    target_features = vectorizer.transform(target_data.data).toarray()\n",
    "    \n",
    "    print(f\"Auxiliary domain: {len(auxiliary_labels)} samples\")\n",
    "    print(f\"Target domain: {len(target_labels)} samples\")\n",
    "    \n",
    "    return auxiliary_features, auxiliary_labels, target_features, target_labels\n",
    "X_aux, y_aux, X_tar, y_tar = load_newsgroup_data('comp_vs_talk')\n",
    "print(\"X_aux\",X_aux)\n",
    "print(\"y_aux\",y_aux)\n",
    "print(\"X_tar\",X_tar)\n",
    "print(\"y_tar\",y_tar)\n",
    "\n",
    "        # 随机选择标记样本\n",
    "pos_indices = np.where(y_tar == 1)[0]\n",
    "neg_indices = np.where(y_tar == -1)[0]\n",
    "        \n",
    "np.random.seed(123)  # 设置随机种子以确保可重复性\n",
    "labeled_samples_per_class=5\n",
    "# 确保选择的样本数不超过可用样本数\n",
    "n_pos = min(labeled_samples_per_class, len(pos_indices))\n",
    "n_neg = min(labeled_samples_per_class, len(neg_indices))\n",
    "        \n",
    "if n_pos < labeled_samples_per_class or n_neg < labeled_samples_per_class:\n",
    "    print(f\"Warning: Requested {labeled_samples_per_class} samples per class, but only found {n_pos} positive and {n_neg} negative samples\")\n",
    "        \n",
    "pos_labeled_idx = np.random.choice(pos_indices, n_pos, replace=False)\n",
    "neg_labeled_idx = np.random.choice(neg_indices, n_neg, replace=False)\n",
    "        \n",
    "labeled_idx = np.concatenate([pos_labeled_idx, neg_labeled_idx])\n",
    "unlabeled_idx = np.array([i for i in range(len(y_tar)) if i not in labeled_idx])\n",
    "        \n",
    "# 分割目标域数据为标记和未标记\n",
    "X_tar_labeled = X_tar[labeled_idx]\n",
    "y_tar_labeled = y_tar[labeled_idx]\n",
    "X_tar_unlabeled = X_tar[unlabeled_idx]\n",
    "y_tar_unlabeled = y_tar[unlabeled_idx]  # 用于评估的真实标签\n",
    "# 只使用线性核\n",
    "C=5\n",
    "kernel_types = ['linear',\"poly1.5\",\"poly1.6\",\"poly1.7\",\"poly1.8\",\"poly1.9\",\"poly2.0\"]\n",
    "dtmkl = DTMKL(\n",
    "      X_train_A=X_aux,\n",
    "      Y_train_A=y_aux, \n",
    "      X_train_T=X_tar_labeled,\n",
    "      Y_train_T=y_tar_labeled,\n",
    "      X_unlabeled_T=X_tar_unlabeled,\n",
    "      kernel_types=kernel_types,  # 只使用线性核\n",
    "      C=C,\n",
    "      theta = 2e-3,\n",
    "      eta=2e-3,\n",
    "      max_iter=50  # 减少迭代次数\n",
    ")\n",
    "                        \n",
    "                        \n",
    "# 训练DTMKL模型\n",
    "dtmkl.fit(verbose=False)\n",
    "                        \n",
    "# 预测\n",
    "y_pred = dtmkl.predict(X_tar_unlabeled)  \n",
    "print(\"y_pred\",y_pred)\n",
    "print((len(y_pred)-np.count_nonzero(y_pred-y_tar_unlabeled))/len(y_pred))     \n",
    "clf = SVC(kernel='linear', C=C)\n",
    "clf.fit(X_tar_labeled, y_tar_labeled)\n",
    "y_pred1 = clf.predict(X_tar_unlabeled)\n",
    "print(\"ypre-svm_T\",y_pred1)\n",
    "print((len(y_pred1)-np.count_nonzero(y_pred1-y_tar_unlabeled))/len(y_pred1))\n",
    "\n",
    "clf = SVC(kernel='linear', C=C)\n",
    "clf.fit(X_aux, y_aux)\n",
    "y_pred2 = clf.predict(X_tar_unlabeled)\n",
    "print(\"ypre-svm_A\",y_pred2)\n",
    "print((len(y_pred2)-np.count_nonzero(y_pred2-y_tar_unlabeled))/len(y_pred2))\n",
    "\n",
    "X_combined = np.vstack([X_aux, X_tar_labeled])\n",
    "y_combined = np.concatenate([y_aux, y_tar_labeled])\n",
    "clf = SVC(kernel='linear', C=C)\n",
    "clf.fit(X_combined, y_combined)\n",
    "y_pred3 = clf.predict(X_tar_unlabeled)\n",
    "print(\"ypre-svm_AT\",y_pred2)\n",
    "print((len(y_pred3)-np.count_nonzero(y_pred3-y_tar_unlabeled))/len(y_pred3))\n",
    "\n",
    "\n",
    " \n",
    "        \n"
   ]
  },
  {
   "cell_type": "code",
   "execution_count": null,
   "id": "7f24490c-de80-4beb-b584-0d757ecb789b",
   "metadata": {},
   "outputs": [],
   "source": []
  }
 ],
 "metadata": {
  "kernelspec": {
   "display_name": ".venv",
   "language": "python",
   "name": "python3"
  },
  "language_info": {
   "codemirror_mode": {
    "name": "ipython",
    "version": 3
   },
   "file_extension": ".py",
   "mimetype": "text/x-python",
   "name": "python",
   "nbconvert_exporter": "python",
   "pygments_lexer": "ipython3",
   "version": "3.10.1"
  }
 },
 "nbformat": 4,
 "nbformat_minor": 5
}
